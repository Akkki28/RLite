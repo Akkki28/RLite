{
 "cells": [
  {
   "cell_type": "markdown",
   "metadata": {},
   "source": [
    "# Example usage with Q learning"
   ]
  },
  {
   "cell_type": "code",
   "execution_count": 335,
   "metadata": {},
   "outputs": [],
   "source": [
    "import RLite\n",
    "import importlib\n",
    "importlib.reload(RLite)\n",
    "import gym\n",
    "from gym import spaces\n",
    "import numpy as np\n",
    "import random\n",
    "from RLite import Q"
   ]
  },
  {
   "cell_type": "markdown",
   "metadata": {},
   "source": [
    "## Creating custom environment with discrete states"
   ]
  },
  {
   "cell_type": "code",
   "execution_count": 336,
   "metadata": {},
   "outputs": [],
   "source": [
    "class PickEvenEnv(gym.Env):\n",
    "    def __init__(self):\n",
    "        super(PickEvenEnv, self).__init__()\n",
    "        self.action_space = spaces.Discrete(2)  \n",
    "        self.observation_space = spaces.Discrete(2)  \n",
    "        self.reset()\n",
    "\n",
    "    def reset(self):\n",
    "        self.num = random.randint(0, 100)\n",
    "        self.state = 1 if self.num % 2 == 0 else 0\n",
    "        self.n = 100\n",
    "        return self.state\n",
    "\n",
    "    def step(self, action):\n",
    "        if action == 0:  \n",
    "            reward = 0\n",
    "        elif action == 1:  \n",
    "            reward = 1 if self.state == 1 else -10\n",
    "\n",
    "        self.n -= 1\n",
    "        done = self.n <= 0\n",
    "        self.num = random.randint(0, 100)\n",
    "        self.state = 1 if self.num % 2 == 0 else 0\n",
    "        return self.state, reward, done, {}\n",
    "\n",
    "    def render(self, mode='human'):\n",
    "        pass  "
   ]
  },
  {
   "cell_type": "code",
   "execution_count": 337,
   "metadata": {},
   "outputs": [],
   "source": [
    "env = PickEvenEnv()"
   ]
  },
  {
   "cell_type": "code",
   "execution_count": 338,
   "metadata": {},
   "outputs": [],
   "source": [
    "agent = Q(env)"
   ]
  },
  {
   "cell_type": "code",
   "execution_count": 339,
   "metadata": {},
   "outputs": [
    {
     "name": "stdout",
     "output_type": "stream",
     "text": [
      "Episode 0/1000, Total Reward: -406\n",
      "Episode 100/1000, Total Reward: -374\n",
      "Episode 200/1000, Total Reward: -96\n",
      "Episode 300/1000, Total Reward: -16\n",
      "Episode 400/1000, Total Reward: -20\n",
      "Episode 500/1000, Total Reward: 68\n",
      "Episode 600/1000, Total Reward: 92\n",
      "Episode 700/1000, Total Reward: 80\n",
      "Episode 800/1000, Total Reward: 92\n",
      "Episode 900/1000, Total Reward: 98\n"
     ]
    }
   ],
   "source": [
    "agent.fit(1000,score_type=2)"
   ]
  },
  {
   "cell_type": "code",
   "execution_count": 340,
   "metadata": {},
   "outputs": [
    {
     "name": "stdout",
     "output_type": "stream",
     "text": [
      "[[ 0.1010101  -9.98989899]\n",
      " [ 0.1111101   1.01010101]]\n"
     ]
    }
   ],
   "source": [
    "agent.show_q_table()"
   ]
  }
 ],
 "metadata": {
  "language_info": {
   "name": "python"
  }
 },
 "nbformat": 4,
 "nbformat_minor": 2
}
